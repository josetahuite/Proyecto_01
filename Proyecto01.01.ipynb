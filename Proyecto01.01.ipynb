{
 "cells": [
  {
   "cell_type": "code",
   "execution_count": 3,
   "metadata": {},
   "outputs": [],
   "source": [
    "import numpy as np\n",
    "import sklearn as sk"
   ]
  },
  {
   "cell_type": "code",
   "execution_count": 4,
   "metadata": {},
   "outputs": [],
   "source": [
    "data_rp = np.load(\"proyecto_training_data.npy\")\n"
   ]
  },
  {
   "cell_type": "code",
   "execution_count": 5,
   "metadata": {},
   "outputs": [],
   "source": [
    "import seaborn as sb"
   ]
  },
  {
   "cell_type": "code",
   "execution_count": 6,
   "metadata": {},
   "outputs": [],
   "source": [
    "import pandas as pd\n",
    "import matplotlib.pyplot as plt"
   ]
  },
  {
   "cell_type": "code",
   "execution_count": 7,
   "metadata": {},
   "outputs": [],
   "source": [
    "dataf_rp = pd.DataFrame(data_rp)"
   ]
  },
  {
   "cell_type": "code",
   "execution_count": 8,
   "metadata": {},
   "outputs": [
    {
     "data": {
      "text/plain": [
       "RangeIndex(start=0, stop=6, step=1)"
      ]
     },
     "execution_count": 8,
     "metadata": {},
     "output_type": "execute_result"
    }
   ],
   "source": [
    "dataf_rp.columns"
   ]
  },
  {
   "cell_type": "code",
   "execution_count": 9,
   "metadata": {},
   "outputs": [],
   "source": [
    "dataf_rp = dataf_rp.rename(columns={0:'SalePrice',1:'OverallQual',2:'1stFlrSF',3:'TotRmsAbvGrd',4:'YearBuilt',5:'LotFrontage'})"
   ]
  },
  {
   "cell_type": "code",
   "execution_count": 10,
   "metadata": {},
   "outputs": [],
   "source": [
    "p_train=0.8\n",
    "dataf_rp['is_train'] = np.random.uniform(0,1,len(dataf_rp)) <= p_train\n",
    "train = dataf_rp[dataf_rp['is_train']==True]\n",
    "test = dataf_rp[dataf_rp['is_train']==False]"
   ]
  },
  {
   "cell_type": "code",
   "execution_count": 11,
   "metadata": {},
   "outputs": [
    {
     "name": "stdout",
     "output_type": "stream",
     "text": [
      "      SalePrice  OverallQual  1stFlrSF  TotRmsAbvGrd  YearBuilt  LotFrontage\n",
      "0      208500.0          7.0     856.0           8.0     2003.0         65.0\n",
      "2      223500.0          7.0     920.0           6.0     2001.0         68.0\n",
      "3      140000.0          7.0     961.0           7.0     1915.0         60.0\n",
      "4      250000.0          8.0    1145.0           9.0     2000.0         84.0\n",
      "7      200000.0          7.0    1107.0           7.0     1973.0          NaN\n",
      "...         ...          ...       ...           ...        ...          ...\n",
      "1454   185000.0          7.0    1221.0           6.0     2004.0         62.0\n",
      "1456   210000.0          6.0    2073.0           7.0     1978.0         85.0\n",
      "1457   266500.0          7.0    1188.0           9.0     1941.0         66.0\n",
      "1458   142125.0          5.0    1078.0           5.0     1950.0         68.0\n",
      "1459   147500.0          5.0    1256.0           6.0     1965.0         75.0\n",
      "\n",
      "[1156 rows x 6 columns]\n"
     ]
    }
   ],
   "source": [
    "columnas = train.columns\n",
    "\n",
    "datosrev = train.select_dtypes([int, float])\n",
    "\n",
    "print(datosrev)"
   ]
  },
  {
   "cell_type": "code",
   "execution_count": 12,
   "metadata": {},
   "outputs": [
    {
     "name": "stdout",
     "output_type": "stream",
     "text": [
      "para la variable SalePrice la media es 181331.70415224915 el maximo es 755000.0 el minimo es 34900.0 el rango es 720100.0 y el desviacion estandar es 78320.85668248413\n",
      "para la variable OverallQual la media es 6.1133217993079585 el maximo es 10.0 el minimo es 1.0 el rango es 9.0 y el desviacion estandar es 1.3574588398848504\n",
      "para la variable 1stFlrSF la media es 1161.4204152249135 el maximo es 4692.0 el minimo es 372.0 el rango es 4320.0 y el desviacion estandar es 392.32948346645986\n",
      "para la variable TotRmsAbvGrd la media es 6.519896193771626 el maximo es 14.0 el minimo es 3.0 el rango es 11.0 y el desviacion estandar es 1.6292478117618683\n",
      "para la variable YearBuilt la media es 1971.5415224913495 el maximo es 2009.0 el minimo es 1872.0 el rango es 137.0 y el desviacion estandar es 30.287620761367858\n",
      "para la variable LotFrontage la media es 70.52123142250531 el maximo es 313.0 el minimo es 21.0 el rango es 292.0 y el desviacion estandar es 25.437552597201698\n"
     ]
    }
   ],
   "source": [
    "datosrev = train.select_dtypes([int, float])\n",
    "columnas = datosrev.columns\n",
    "for i in columnas:\n",
    "    media=np.mean(datosrev[i])\n",
    "    maximo=np.max(datosrev[i])\n",
    "    minimo=np.min(datosrev[i])\n",
    "    rango= maximo - minimo \n",
    "    desviacions = np.std(datosrev[i])\n",
    "    print(f\"para la variable {i} la media es {media} el maximo es {maximo} el minimo es {minimo} el rango es {rango} y el desviacion estandar es {desviacions}\" )"
   ]
  },
  {
   "cell_type": "code",
   "execution_count": 13,
   "metadata": {},
   "outputs": [],
   "source": [
    "import matplotlib.pyplot as plt"
   ]
  },
  {
   "cell_type": "code",
   "execution_count": null,
   "metadata": {},
   "outputs": [],
   "source": [
    "datosrev = train.select_dtypes([int, float])\n",
    "\n",
    "for i, col in enumerate(datosrev.columns):\n",
    "    plt.figure(i)\n",
    "    sb.histplot(x=col, data=train)\n",
    "\n",
    "    \n",
    "    \n",
    "\n"
   ]
  },
  {
   "cell_type": "code",
   "execution_count": null,
   "metadata": {},
   "outputs": [],
   "source": [
    "datosrev = train.select_dtypes([int, float])\n",
    "columnas = datosrev.columns\n",
    "for i in columnas:\n",
    "    MCoef_Corr = np.corrcoef(datosrev['SalePrice'], datosrev[i])\n",
    "    Coef_Corr  = MCoef_Corr[0,1]\n",
    "    plt.figure(i)\n",
    "    plt.scatter(datosrev['SalePrice'], datosrev[i])\n",
    "    plt.title(f\"Variable {i} con coeficiente de correlacion {Coef_Corr}\")\n",
    "\n",
    "\n"
   ]
  },
  {
   "cell_type": "code",
   "execution_count": 14,
   "metadata": {},
   "outputs": [],
   "source": [
    "#obtener la matriz de x\n",
    "M_OverallQual=[]\n",
    "for i in train['OverallQual']:\n",
    "    M_OverallQual.append([i,1])    #este codigo genera una lista \n",
    "M_OverallQual = np.array(M_OverallQual)  #luego la volvermos arreglo \n",
    "#M_OverallQual = M_OverallQual[:,0]  #vuelve el arreglo de tamaño (n,)\n",
    "#Unos= np.ones(len(train))  #genera un arreglo de 1s de tamaño (n,)\n",
    "#Matriz_01 =np.concatenate((M_OverallQual,Unos),axis=0)\n",
    "\n"
   ]
  },
  {
   "cell_type": "code",
   "execution_count": 15,
   "metadata": {},
   "outputs": [],
   "source": [
    "M_SalePrice=[]\n",
    "for i in train['SalePrice']:\n",
    "    M_SalePrice.append([i])    #este codigo genera una lista \n",
    "M_SalePrice = np.array(M_SalePrice)\n",
    "M_SalePrice = M_SalePrice[:,0]"
   ]
  },
  {
   "cell_type": "code",
   "execution_count": null,
   "metadata": {},
   "outputs": [],
   "source": [
    "#declaracion de variables iniciales \n",
    "b_1 = 40000\n",
    "b_0 = 1\n",
    "iteraciones=250\n",
    "imprimer_error_cada = 10\n",
    "alfa=0.05\n",
    "\n",
    "z=-1\n",
    "Salida = pd.DataFrame(columns=['prueba','b0','b1','error_e'])\n",
    "\n",
    "\n",
    "while z <= iteraciones:\n",
    "    z= z+1\n",
    "    res_b1= M_OverallQual[:,0]*b_1\n",
    "    res_b0 = M_OverallQual[:,1]*b_0\n",
    "    resultado_01 =res_b1+res_b0\n",
    "\n",
    "    diferencia = M_SalePrice-resultado_01\n",
    "    cuadrado = diferencia * diferencia\n",
    "\n",
    "    suma_error=0\n",
    "    for i in cuadrado:\n",
    "        suma_error= i + suma_error\n",
    "    error=suma_error/(2*len(resultado_01))    \n",
    "\n",
    "    Salida =  Salida.append({'prueba':z,'b0':b_0,'b1':b_1,'error_e':error},ignore_index=True)\n",
    "\n",
    "    gradiente_beta_1 = (np.dot(-diferencia , M_OverallQual[:,0]))/(len(diferencia))\n",
    "    \n",
    "    suma_diferencias_b0=0\n",
    "    for i in diferencia:\n",
    "        suma_diferencias_b0 = i + suma_diferencias_b0\n",
    "    gradiente_beta_0=suma_diferencias_b0/(len(resultado_01))    \n",
    "\n",
    "    b_0= b_0 - alfa*(gradiente_beta_0)\n",
    "    b_1= b_1 - alfa*(gradiente_beta_1)\n",
    "\n",
    "\n",
    "\n",
    "fig, ax=plt.subplots()\n",
    "ax.plot(Salida['prueba'],Salida['error_e'])\n",
    "plt.show()\n",
    "    \n",
    "  "
   ]
  },
  {
   "cell_type": "code",
   "execution_count": 17,
   "metadata": {},
   "outputs": [],
   "source": [
    "from sklearn.linear_model import LinearRegression\n"
   ]
  },
  {
   "cell_type": "code",
   "execution_count": 52,
   "metadata": {},
   "outputs": [],
   "source": [
    "X = np.array(train['OverallQual'])\n",
    "Y = np.array(train['SalePrice'])\n",
    "X = X.reshape(-1,1)\n",
    "LR = LinearRegression()\n",
    "reg = LR.fit(X,Y)\n",
    "reg.score(X,Y)\n",
    "\n",
    "\n",
    "Prediccion = LR.predict(X)"
   ]
  },
  {
   "cell_type": "code",
   "execution_count": 101,
   "metadata": {},
   "outputs": [
    {
     "data": {
      "text/plain": [
       "<function matplotlib.pyplot.show(close=None, block=None)>"
      ]
     },
     "execution_count": 101,
     "metadata": {},
     "output_type": "execute_result"
    },
    {
     "data": {
      "image/png": "[encoded data removed]",
      "text/plain": [
       "<Figure size 640x480 with 1 Axes>"
      ]
     },
     "metadata": {},
     "output_type": "display_data"
    }
   ],
   "source": [
    "\n",
    "X_1 = np.array(test['OverallQual'])\n",
    "X_1 = X_1.reshape(-1,1)\n",
    "Y_1 = np.array(test['SalePrice'])\n",
    "Prediccion_StkLrn = (LR.predict(X_1))\n",
    "\n",
    "\n",
    "\n",
    "M_OverallQual_test=[]\n",
    "for i in test['OverallQual']:\n",
    "    M_OverallQual_test.append([i,1])    #este codigo genera una lista \n",
    "M_OverallQual_test = np.array(M_OverallQual_test) \n",
    "\n",
    "Pos_Error_Minimo =Salida['error_e'].idxmin()\n",
    "b1_min_manual = Salida.loc[Pos_Error_Minimo,'b1']\n",
    "b0_min_manual = Salida.loc[Pos_Error_Minimo,'b0']\n",
    "res_b1_min= M_OverallQual_test[:,0]*b1_min_manual\n",
    "res_b0_min= M_OverallQual_test[:,1]*b0_min_manual\n",
    "Prediccion_Manual =(res_b1_min+res_b0_min)\n",
    "\n",
    "\n",
    "\n",
    "Predicciones_Unificada = pd.DataFrame()\n",
    "\n",
    "Predicciones_Unificada['StkLrn']=Prediccion_StkLrn.tolist()\n",
    "Predicciones_Unificada['Manual']=Prediccion_Manual.tolist()\n",
    "Predicciones_Unificada['Promedio']= ((Predicciones_Unificada['StkLrn']+Predicciones_Unificada['Manual'])/2)\n",
    "Predicciones_Unificada['SalePrice']=Y_1.tolist()\n",
    "Predicciones_Unificada['Error_StkLrn']= ((Predicciones_Unificada['StkLrn']-Predicciones_Unificada['SalePrice'])*(Predicciones_Unificada['StkLrn']-Predicciones_Unificada['SalePrice']))\n",
    "Predicciones_Unificada['Error_Manual']= ((Predicciones_Unificada['Manual']-Predicciones_Unificada['SalePrice'])*(Predicciones_Unificada['Manual']-Predicciones_Unificada['SalePrice']))\n",
    "Predicciones_Unificada['Error_Promedio']= ((Predicciones_Unificada['Promedio']-Predicciones_Unificada['SalePrice'])*(Predicciones_Unificada['Promedio']-Predicciones_Unificada['SalePrice']))\n",
    "\n",
    "\n",
    "Error_StkLrn    = (Predicciones_Unificada['Error_StkLrn'].sum())/(2*len(Predicciones_Unificada)) \n",
    "Error_Manual    = (Predicciones_Unificada['Error_Manual'].sum())/(2*len(Predicciones_Unificada)) \n",
    "Error_Promedio  = (Predicciones_Unificada['Error_Promedio'].sum())/(2*len(Predicciones_Unificada))\n",
    "\n",
    "\n",
    "Errores = [Error_StkLrn,Error_Manual,Error_Promedio]\n",
    "nombre_Errores = ['Error_StkLrn','Error_Manual','Error_Promedio']\n",
    "plt.barh(nombre_Errores,Errores)\n",
    "plt.show\n",
    "\n",
    "\n"
   ]
  }
 ],
 "metadata": {
  "kernelspec": {
   "display_name": "base",
   "language": "python",
   "name": "python3"
  },
  "language_info": {
   "codemirror_mode": {
    "name": "ipython",
    "version": 3
   },
   "file_extension": ".py",
   "mimetype": "text/x-python",
   "name": "python",
   "nbconvert_exporter": "python",
   "pygments_lexer": "ipython3",
   "version": "3.9.13"
  },
  "orig_nbformat": 4,
  "vscode": {
   "interpreter": {
    "hash": "52634da84371cba311ea128a5ea7cdc41ff074b781779e754b270ff9f8153cee"
   }
  }
 },
 "nbformat": 4,
 "nbformat_minor": 2
}
